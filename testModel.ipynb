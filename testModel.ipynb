{
 "cells": [
  {
   "cell_type": "code",
   "execution_count": 1,
   "metadata": {},
   "outputs": [],
   "source": [
    "import sys\n",
    "from PyQt5.QtWidgets import QApplication, QWidget, QVBoxLayout, QLabel, QComboBox, QPushButton, QLineEdit\n",
    "from sklearn.preprocessing import StandardScaler\n",
    "import pandas as pd\n",
    "import numpy as np\n"
   ]
  },
  {
   "cell_type": "code",
   "execution_count": 2,
   "metadata": {},
   "outputs": [],
   "source": [
    "import pickle"
   ]
  },
  {
   "cell_type": "code",
   "execution_count": 3,
   "metadata": {},
   "outputs": [],
   "source": [
    "with open('best_entropy_model.pkl', 'rb') as f:\n",
    "    best_entropy_model = pickle.load(f)\n"
   ]
  },
  {
   "cell_type": "code",
   "execution_count": 5,
   "metadata": {},
   "outputs": [
    {
     "name": "stdout",
     "output_type": "stream",
     "text": [
      "     Age   HGB    WBC   PLT  Neutro   Mono  Sex_female  Sex_male\n",
      "0  123.0  33.0  333.0  33.0   333.0  333.0       False      True\n",
      "       0      1      2      3     4\n",
      "0  False  False  False  False  True\n",
      "0    True\n",
      "Name: 4, dtype: bool\n",
      "    Age       HGB       WBC       PLT    Neutro      Mono  Sex_female  \\\n",
      "0  25.0 -0.140576 -0.018132 -0.616936 -0.613704 -0.237428       False   \n",
      "\n",
      "   Sex_male  \n",
      "0      True  \n",
      "       0      1      2     3      4\n",
      "0  False  False  False  True  False\n",
      "0    False\n",
      "Name: 4, dtype: bool\n"
     ]
    },
    {
     "ename": "NameError",
     "evalue": "name 'QMessageBox' is not defined",
     "output_type": "error",
     "traceback": [
      "\u001b[1;31m---------------------------------------------------------------------------\u001b[0m",
      "\u001b[1;31mNameError\u001b[0m                                 Traceback (most recent call last)",
      "Cell \u001b[1;32mIn[5], line 56\u001b[0m, in \u001b[0;36mPredictionWindow.closeEvent\u001b[1;34m(self, event)\u001b[0m\n\u001b[0;32m     55\u001b[0m \u001b[38;5;28;01mdef\u001b[39;00m \u001b[38;5;21mcloseEvent\u001b[39m(\u001b[38;5;28mself\u001b[39m, event):\n\u001b[1;32m---> 56\u001b[0m     reply \u001b[38;5;241m=\u001b[39m \u001b[43mQMessageBox\u001b[49m\u001b[38;5;241m.\u001b[39mquestion(\u001b[38;5;28mself\u001b[39m, \u001b[38;5;124m'\u001b[39m\u001b[38;5;124mMessage\u001b[39m\u001b[38;5;124m'\u001b[39m,\n\u001b[0;32m     57\u001b[0m         \u001b[38;5;124m\"\u001b[39m\u001b[38;5;124mต้องการออกหรือไม่?\u001b[39m\u001b[38;5;124m\"\u001b[39m, QMessageBox\u001b[38;5;241m.\u001b[39mYes \u001b[38;5;241m|\u001b[39m\n\u001b[0;32m     58\u001b[0m         QMessageBox\u001b[38;5;241m.\u001b[39mNo, QMessageBox\u001b[38;5;241m.\u001b[39mNo)\n\u001b[0;32m     60\u001b[0m     \u001b[38;5;28;01mif\u001b[39;00m reply \u001b[38;5;241m==\u001b[39m QMessageBox\u001b[38;5;241m.\u001b[39mYes:\n\u001b[0;32m     61\u001b[0m         event\u001b[38;5;241m.\u001b[39maccept()\n",
      "\u001b[1;31mNameError\u001b[0m: name 'QMessageBox' is not defined"
     ]
    },
    {
     "ename": "SystemExit",
     "evalue": "0",
     "output_type": "error",
     "traceback": [
      "An exception has occurred, use %tb to see the full traceback.\n",
      "\u001b[1;31mSystemExit\u001b[0m\u001b[1;31m:\u001b[0m 0\n"
     ]
    },
    {
     "name": "stderr",
     "output_type": "stream",
     "text": [
      "c:\\Users\\Bravo\\anaconda3\\envs\\jk_ML\\lib\\site-packages\\IPython\\core\\interactiveshell.py:3513: UserWarning: To exit: use 'exit', 'quit', or Ctrl-D.\n",
      "  warn(\"To exit: use 'exit', 'quit', or Ctrl-D.\", stacklevel=1)\n"
     ]
    }
   ],
   "source": [
    "class PredictionWindow(QWidget):\n",
    "    def __init__(self):\n",
    "        super().__init__()\n",
    "\n",
    "        self.setWindowTitle('โมเดลการทำนายโรค')\n",
    "        self.setGeometry(100, 100, 400, 400)\n",
    "\n",
    "        layout = QVBoxLayout()\n",
    "\n",
    "        self.age_label = QLabel('อายุ:')\n",
    "        self.age_input = QLineEdit()\n",
    "        layout.addWidget(self.age_label)\n",
    "        layout.addWidget(self.age_input)\n",
    "\n",
    "        self.hgb_label = QLabel('HGB:')\n",
    "        self.hgb_input = QLineEdit()\n",
    "        layout.addWidget(self.hgb_label)\n",
    "        layout.addWidget(self.hgb_input)\n",
    "\n",
    "        self.wbc_label = QLabel('WBC:')\n",
    "        self.wbc_input = QLineEdit()\n",
    "        layout.addWidget(self.wbc_label)\n",
    "        layout.addWidget(self.wbc_input)\n",
    "\n",
    "        self.plt_label = QLabel('PLT:')\n",
    "        self.plt_input = QLineEdit()\n",
    "        layout.addWidget(self.plt_label)\n",
    "        layout.addWidget(self.plt_input)\n",
    "\n",
    "        self.neutro_label = QLabel('Neutro:')\n",
    "        self.neutro_input = QLineEdit()\n",
    "        layout.addWidget(self.neutro_label)\n",
    "        layout.addWidget(self.neutro_input)\n",
    "\n",
    "        self.mono_label = QLabel('Mono:')\n",
    "        self.mono_input = QLineEdit()\n",
    "        layout.addWidget(self.mono_label)\n",
    "        layout.addWidget(self.mono_input)\n",
    "\n",
    "        self.sex_label = QLabel('เพศ:')\n",
    "        self.sex_combobox = QComboBox()\n",
    "        self.sex_combobox.addItems(['ชาย', 'หญิง'])\n",
    "        layout.addWidget(self.sex_label)\n",
    "        layout.addWidget(self.sex_combobox)\n",
    "\n",
    "        self.predict_button = QPushButton('ทำนาย')\n",
    "        self.predict_button.clicked.connect(self.predict)\n",
    "        layout.addWidget(self.predict_button)\n",
    "\n",
    "        self.result_label = QLabel('')\n",
    "        layout.addWidget(self.result_label)\n",
    "\n",
    "        self.setLayout(layout)\n",
    "\n",
    "    def closeEvent(self, event):\n",
    "        reply = QMessageBox.question(self, 'Message',\n",
    "            \"ต้องการออกหรือไม่?\", QMessageBox.Yes |\n",
    "            QMessageBox.No, QMessageBox.No)\n",
    "\n",
    "        if reply == QMessageBox.Yes:\n",
    "            event.accept()\n",
    "        else:\n",
    "            event.ignore()\n",
    "\n",
    "    def predict(self):\n",
    "        # ดึงข้อมูลจาก input_df\n",
    "        age = float(self.age_input.text())\n",
    "        hgb = float(self.hgb_input.text())\n",
    "        wbc = float(self.wbc_input.text())\n",
    "        plt = float(self.plt_input.text())\n",
    "        neutro = float(self.neutro_input.text())\n",
    "        mono = float(self.mono_input.text())\n",
    "        sex = self.sex_combobox.currentText() == 'หญิง'  # ถ้าเป็น 'หญิง' จะเป็น True\n",
    "\n",
    "        # สร้าง DataFrame\n",
    "        input_data = {\n",
    "            'Age': [age],\n",
    "            'HGB': [hgb],\n",
    "            'WBC': [wbc],\n",
    "            'PLT': [plt],\n",
    "            'Neutro': [neutro],\n",
    "            'Mono': [mono],\n",
    "            'Sex_female': [sex],\n",
    "            'Sex_male': [not sex]\n",
    "        }\n",
    "        input_df = pd.DataFrame(input_data)\n",
    "\n",
    "\n",
    "\n",
    "        # ทำนาย\n",
    "        y_pred_input = best_entropy_model.predict(input_df)\n",
    "        y_df_pred = pd.DataFrame(y_pred_input)\n",
    "        print(y_df_pred)\n",
    "        \n",
    "\n",
    "        # แสดงผลลัพธ์\n",
    "        result = ''\n",
    "        #print(f\"{y_df_pred[4]}\")\n",
    "        \n",
    "        \n",
    "        if y_df_pred.values.any():\n",
    "            if y_df_pred.iloc[0, 0]:\n",
    "                result = 'คุณเป็นโรคโลหิตจาง'\n",
    "                y_pred_input = None\n",
    "            elif y_df_pred.iloc[0, 1]:\n",
    "                result = 'คุณมีภาวะติดเชื้อในกระแสเลือด'\n",
    "                y_pred_input = None\n",
    "            elif y_df_pred.iloc[0, 2]:\n",
    "                result = 'คุณเป็นโรคไข้เลือดออก'\n",
    "                y_pred_input = None\n",
    "            elif y_df_pred.iloc[0, 3]:\n",
    "                result = 'คุณไม่เป็นโรคใดๆ'\n",
    "                y_pred_input = None\n",
    "            elif y_df_pred.iloc[0, 4]:\n",
    "                result = 'คุณเสี่ยงที่จะติดเชื้อในกระแสเลือด'\n",
    "                y_pred_input = None\n",
    "        else:\n",
    "            result = 'คุณไม่เป็นโรคใดๆ'\n",
    "            y_pred_input = None\n",
    "            #print(\"All False\")\n",
    "        self.result_label.setText(result)\n",
    "\n",
    "# เรียกใช้งานแอปพลิเคชัน\n",
    "app = QApplication(sys.argv)\n",
    "window = PredictionWindow()\n",
    "window.show()\n",
    "sys.exit(app.exec_())"
   ]
  },
  {
   "cell_type": "code",
   "execution_count": null,
   "metadata": {},
   "outputs": [],
   "source": []
  }
 ],
 "metadata": {
  "kernelspec": {
   "display_name": "jk_ML",
   "language": "python",
   "name": "python3"
  },
  "language_info": {
   "codemirror_mode": {
    "name": "ipython",
    "version": 3
   },
   "file_extension": ".py",
   "mimetype": "text/x-python",
   "name": "python",
   "nbconvert_exporter": "python",
   "pygments_lexer": "ipython3",
   "version": "3.9.18"
  }
 },
 "nbformat": 4,
 "nbformat_minor": 2
}
